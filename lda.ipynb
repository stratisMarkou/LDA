{
 "cells": [
  {
   "cell_type": "code",
   "execution_count": 1,
   "metadata": {},
   "outputs": [],
   "source": [
    "import tensorflow as tf\n",
    "import tensorflow_datasets as tfds\n",
    "\n",
    "tfk = tf.keras\n",
    "\n",
    "import numpy as np"
   ]
  },
  {
   "cell_type": "markdown",
   "metadata": {},
   "source": [
    "# Getting and preprocessing dataset"
   ]
  },
  {
   "cell_type": "code",
   "execution_count": 23,
   "metadata": {
    "scrolled": false
   },
   "outputs": [],
   "source": [
    "tf.random.set_seed(0)\n",
    "\n",
    "num_articles = 100\n",
    "\n",
    "dataset = tfds.load(name=\"cnn_dailymail\", split=tfds.Split.ALL)\n",
    "dataset = dataset.shuffle(buffer_size=512).repeat()\n",
    "dataset = dataset.batch(num_articles)\n",
    "\n",
    "for example in dataset.take(1):\n",
    "    \n",
    "    # Dowload all articles and remove punctuation\n",
    "    articles = tf.strings.regex_replace(example['article'],\n",
    "                                        tf.constant(\"[[:punct:]]\"),\n",
    "                                        tf.constant(\"\"),\n",
    "                                        replace_global=True)\n",
    "    \n",
    "    # Split articles into words\n",
    "    words = tf.strings.split(articles)\n",
    "    \n",
    "    # Count occurences of unique words\n",
    "    unique, idx, counts = tf.unique_with_counts(words.values)\n",
    "    \n",
    "    vocab_dict = dict(zip(unique.numpy(), np.arange(len(unique))))\n",
    "    vocab = tf.gather(unique, tf.where(counts > 1)).numpy()[:, 0]\n",
    "    \n",
    "    def get_rare_word_mask(tensor):\n",
    "        \n",
    "        if len(tensor.shape) > 1:\n",
    "            return tf.ragged.map_flat_values(get_rare_word_mask, tensor)\n",
    "\n",
    "        else:\n",
    "            return tf.map_fn(lambda x : str(int(x in vocab)), tensor)\n",
    "    \n",
    "    def indexify(tensor):\n",
    "\n",
    "        if len(tensor.shape) > 1:\n",
    "            return tf.ragged.map_flat_values(indexify, tensor)\n",
    "\n",
    "        else:\n",
    "            return tf.map_fn(lambda x : str(vocab_dict[x.numpy()]), tensor)\n",
    "    \n",
    "    word_mask = tf.ragged.map_flat_values(get_rare_word_mask, words)\n",
    "    word_mask = tf.strings.to_number(word_mask, out_type=np.int32)\n",
    "    word_mask = tf.cast(word_mask, dtype=tf.bool)\n",
    "    \n",
    "    words = tf.ragged.boolean_mask(words, word_mask)\n",
    "    words = tf.ragged.map_flat_values(indexify, words)"
   ]
  },
  {
   "cell_type": "code",
   "execution_count": 24,
   "metadata": {},
   "outputs": [
    {
     "name": "stdout",
     "output_type": "stream",
     "text": [
      "10140 5226\n"
     ]
    }
   ],
   "source": [
    "print(len(unique), len(tf.unique_with_counts(words.values)[0]))"
   ]
  },
  {
   "cell_type": "markdown",
   "metadata": {},
   "source": [
    "# Model"
   ]
  },
  {
   "cell_type": "code",
   "execution_count": 115,
   "metadata": {},
   "outputs": [],
   "source": [
    "class LDA:\n",
    "    \n",
    "    def __init__(self, data, num_topics):\n",
    "        \n",
    "        self.data = data\n",
    "        \n",
    "        self.K = num_topics\n",
    "        self.D = self.data.shape[0]\n",
    "        self.V = len(tf.unique(words.values).y)\n",
    "        self.W = tf.ragged.stack([tf.one_hot(row, self.V) for row in data], axis=0)\n",
    "        \n",
    "        # Model parameters\n",
    "        self.alpha = tf.Variable(tf.ones(shape=(self.K,)))\n",
    "        self.eta = tf.Variable(1.0)\n",
    "        \n",
    "        # Variational posterior parameters\n",
    "        self.lamda = tf.Variable(tf.ones(shape=(self.K, self.V)))\n",
    "        self.gamma = tf.Variable(tf.ones(shape=(self.D, self.K)))\n",
    "        self.phi = tf.ragged.stack([tf.ones_like(data) for i in range(self.K)], axis=-1)\n",
    "        self.phi = self.phi / tf.reduce_sum(self.phi, axis=-1)[..., None]\n",
    "        \n",
    "        print(self.W.shape)\n",
    "        \n",
    "    \n",
    "    def single_variational_parameter_update(self):\n",
    "        \n",
    "        gamma = self.alpha[None, ...] + tf.reduce_sum(self.phi, axis=1)\n",
    "\n",
    "        lamda = self.eta[None, None] + tf.reduce_sum(self.phi[..., None], axis=1)"
   ]
  },
  {
   "cell_type": "code",
   "execution_count": 121,
   "metadata": {},
   "outputs": [
    {
     "name": "stdout",
     "output_type": "stream",
     "text": [
      "(100, None, None)\n"
     ]
    },
    {
     "data": {
      "text/plain": [
       "<__main__.LDA at 0x1b2a52860>"
      ]
     },
     "execution_count": 121,
     "metadata": {},
     "output_type": "execute_result"
    }
   ],
   "source": [
    "LDA(data=words[:100], num_topics=5)"
   ]
  },
  {
   "cell_type": "code",
   "execution_count": 129,
   "metadata": {},
   "outputs": [
    {
     "data": {
      "text/plain": [
       "<tf.Tensor: id=14349337, shape=(3,), dtype=float32, numpy=array([1., 1., 0.], dtype=float32)>"
      ]
     },
     "execution_count": 129,
     "metadata": {},
     "output_type": "execute_result"
    }
   ],
   "source": []
  },
  {
   "cell_type": "code",
   "execution_count": null,
   "metadata": {},
   "outputs": [],
   "source": []
  }
 ],
 "metadata": {
  "kernelspec": {
   "display_name": "Python 3",
   "language": "python",
   "name": "python3"
  },
  "language_info": {
   "codemirror_mode": {
    "name": "ipython",
    "version": 3
   },
   "file_extension": ".py",
   "mimetype": "text/x-python",
   "name": "python",
   "nbconvert_exporter": "python",
   "pygments_lexer": "ipython3",
   "version": "3.7.3"
  }
 },
 "nbformat": 4,
 "nbformat_minor": 2
}
