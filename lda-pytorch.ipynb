{
 "cells": [
  {
   "cell_type": "code",
   "execution_count": 1,
   "metadata": {},
   "outputs": [
    {
     "ename": "ImportError",
     "evalue": "No module named 'tensorboardX'",
     "output_type": "error",
     "traceback": [
      "\u001b[0;31m---------------------------------------------------------------------------\u001b[0m",
      "\u001b[0;31mImportError\u001b[0m                               Traceback (most recent call last)",
      "\u001b[0;32m<ipython-input-1-42cfb32e86cd>\u001b[0m in \u001b[0;36m<module>\u001b[0;34m()\u001b[0m\n\u001b[1;32m     12\u001b[0m \u001b[0;32mimport\u001b[0m \u001b[0mmatplotlib\u001b[0m\u001b[0;34m.\u001b[0m\u001b[0mpyplot\u001b[0m \u001b[0;32mas\u001b[0m \u001b[0mplt\u001b[0m\u001b[0;34m\u001b[0m\u001b[0m\n\u001b[1;32m     13\u001b[0m \u001b[0;34m\u001b[0m\u001b[0m\n\u001b[0;32m---> 14\u001b[0;31m \u001b[0;32mfrom\u001b[0m \u001b[0mtensorboardX\u001b[0m \u001b[0;32mimport\u001b[0m \u001b[0mSummaryWriter\u001b[0m\u001b[0;34m\u001b[0m\u001b[0m\n\u001b[0m\u001b[1;32m     15\u001b[0m \u001b[0;34m\u001b[0m\u001b[0m\n\u001b[1;32m     16\u001b[0m \u001b[0mdevice\u001b[0m \u001b[0;34m=\u001b[0m \u001b[0mtorch\u001b[0m\u001b[0;34m.\u001b[0m\u001b[0mdevice\u001b[0m\u001b[0;34m(\u001b[0m\u001b[0;34m'cuda'\u001b[0m \u001b[0;32mif\u001b[0m \u001b[0mtorch\u001b[0m\u001b[0;34m.\u001b[0m\u001b[0mcuda\u001b[0m\u001b[0;34m.\u001b[0m\u001b[0mis_available\u001b[0m\u001b[0;34m(\u001b[0m\u001b[0;34m)\u001b[0m \u001b[0;32melse\u001b[0m \u001b[0;34m'cpu'\u001b[0m\u001b[0;34m)\u001b[0m\u001b[0;34m\u001b[0m\u001b[0m\n",
      "\u001b[0;31mImportError\u001b[0m: No module named 'tensorboardX'"
     ]
    }
   ],
   "source": [
    "import torch\n",
    "import torch.nn as nn\n",
    "from torch.autograd import grad\n",
    "\n",
    "from sklearn.datasets import fetch_20newsgroups\n",
    "\n",
    "import gensim\n",
    "\n",
    "from collections import Counter\n",
    "\n",
    "from tqdm import tqdm_notebook as tqdm\n",
    "import matplotlib.pyplot as plt\n",
    "\n",
    "from tensorboardX import SummaryWriter\n",
    "\n",
    "device = torch.device('cuda' if torch.cuda.is_available() else 'cpu')\n",
    "writer = SummaryWriter()"
   ]
  },
  {
   "cell_type": "markdown",
   "metadata": {},
   "source": [
    "# Load and preprocess data"
   ]
  },
  {
   "cell_type": "code",
   "execution_count": 570,
   "metadata": {},
   "outputs": [],
   "source": [
    "# Load documents\n",
    "documents = fetch_20newsgroups(subset='train', remove=('headers', 'footers',  'quotes'), shuffle=True)\n",
    "\n",
    "# Preprocess with gensim and remove stopwords\n",
    "documents = [[word for word in gensim.utils.simple_preprocess(document) if not word in gensim.parsing.preprocessing.STOPWORDS]\n",
    "             for document in documents['data'][:200]]\n",
    "\n",
    "# Remove rare words by applying a frequency threshold\n",
    "freq_threshold = 5\n",
    "counts = Counter([word for document in documents for word in document])\n",
    "\n",
    "documents = [list(filter(lambda word : counts[word] > freq_threshold, document)) for document in documents]\n",
    "documents = list(filter(lambda document : len(document) > 0, documents))\n",
    "\n",
    "# Map words to integer indices\n",
    "counts = Counter([word for document in documents for word in document])\n",
    "\n",
    "word_idx_dict = {word : i for i, word in enumerate(counts.keys())}\n",
    "idx_word_dict = {i : word for word, i in word_idx_dict.items()}\n",
    "\n",
    "documents = [torch.tensor(list(map(lambda word : word_idx_dict[word], document))) for document in documents]"
   ]
  },
  {
   "cell_type": "code",
   "execution_count": 571,
   "metadata": {},
   "outputs": [],
   "source": [
    "class VariationalLDA(nn.Module):\n",
    "    \n",
    "    def __init__(self, documents, vocab_size, num_topics, log_eta, log_alpha):\n",
    "        \n",
    "        super(VariationalLDA, self).__init__()\n",
    "        \n",
    "        self.D = len(documents)\n",
    "        self.K = num_topics\n",
    "        self.V = vocab_size\n",
    "        \n",
    "        self.words = documents\n",
    "        \n",
    "        k_ones = torch.ones(size=(self.K,)).to(device)\n",
    "        \n",
    "        self.log_eta = nn.Parameter(torch.tensor(log_eta).to(device))\n",
    "        self.log_alpha = nn.Parameter((log_alpha * k_ones + torch.rand(self.K).to(device)).to(device))\n",
    "        \n",
    "        self.gamma = [torch.exp(log_alpha * k_ones) + k_ones * len(Counter(document)) / self.K\n",
    "                      for document in documents]\n",
    "        \n",
    "        self.phi = [torch.ones(size=(document.shape[0], self.K)).to(device) / self.K\n",
    "                    for document in documents]\n",
    "        \n",
    "        self.lamda = torch.ones(size=(self.K, self.V)).to(device)\n",
    "    \n",
    "    \n",
    "    def elbo(self):\n",
    "        \n",
    "        self.eta = torch.exp(self.log_eta)\n",
    "        self.alpha = torch.exp(self.log_alpha)\n",
    "        \n",
    "        elbo = 0\n",
    "        \n",
    "        eta_vector = self.eta * torch.ones(self.V).to(device)\n",
    "        \n",
    "        lamda_digamma_diff = self.digamma_difference(self.lamda)\n",
    "        gamma_digamma_diff = [self.digamma_difference(gamma_d) for gamma_d in self.gamma]\n",
    "        \n",
    "        eta_log_gamma_diff = self.log_gamma_difference(eta_vector)\n",
    "        alpha_log_gamma_diff = self.log_gamma_difference(self.alpha)\n",
    "        gamma_log_gamma_diff = [self.log_gamma_difference(gamma_d) for gamma_d in self.gamma]\n",
    "        lamda_log_gamma_diff = self.log_gamma_difference(self.lamda)\n",
    "        \n",
    "        elbo = elbo + sum([torch.einsum('nk, kn ->', phi_d, lamda_digamma_diff[:, words_d])\n",
    "                           for phi_d, words_d in zip(self.phi, self.words)])\n",
    "        \n",
    "        elbo = elbo + sum([torch.einsum('nk, k ->', phi_d, gamma_digamma_diff_d)\n",
    "                           for phi_d, gamma_digamma_diff_d in zip(self.phi, gamma_digamma_diff)])\n",
    "        \n",
    "        elbo = elbo + self.D * alpha_log_gamma_diff\n",
    "        \n",
    "        elbo = elbo + sum([torch.einsum('k, k ->', self.alpha - 1, gamma_digamma_diff_d)\n",
    "                           for gamma_digamma_diff_d in gamma_digamma_diff])\n",
    "        \n",
    "        elbo = elbo + self.K * eta_log_gamma_diff\n",
    "        \n",
    "        elbo = elbo + torch.einsum('v, kv ->', eta_vector - 1, lamda_digamma_diff)\n",
    "        \n",
    "        elbo = elbo - sum([torch.sum(phi_d * torch.log(phi_d)) for phi_d in self.phi])\n",
    "        \n",
    "        elbo = elbo - sum(gamma_log_gamma_diff)\n",
    "        \n",
    "        elbo = elbo - sum([torch.einsum('k, k ->', gamma_d - 1, gamma_digamma_diff_d)\n",
    "                           for gamma_d, gamma_digamma_diff_d in zip(self.gamma, gamma_digamma_diff)])\n",
    "        \n",
    "        elbo = elbo - torch.sum(lamda_log_gamma_diff)\n",
    "        \n",
    "        elbo = elbo - torch.einsum('kv, kv ->', self.lamda - 1, lamda_digamma_diff)\n",
    "        \n",
    "        return elbo\n",
    "    \n",
    "    \n",
    "    def forward(self):\n",
    "        return - self.elbo()\n",
    "    \n",
    "    \n",
    "    def variational_parameter_step(self):\n",
    "        \n",
    "        self.eta = torch.exp(self.log_eta.detach())\n",
    "        self.alpha = torch.exp(self.log_alpha.detach())\n",
    "        \n",
    "        # Update gamma\n",
    "        self.gamma = [(self.alpha + torch.sum(phi_d, dim=0)) for phi_d in self.phi]\n",
    "        \n",
    "        # Update lamda\n",
    "        self.lamda = torch.ones((self.K, self.V)).to(device) * self.eta\n",
    "        k_range = torch.arange(self.K)\n",
    "        \n",
    "        for d in range(self.D):\n",
    "            for n in range(self.words[d].shape[0]):\n",
    "                self.lamda[:, self.words[d][n]] += self.phi[d][n]\n",
    "        \n",
    "        # Update phi\n",
    "        digamma_lamda = self.digamma_difference(self.lamda)\n",
    "        words_digamma_lamda = [digamma_lamda[:, self.words[d]].T for d in range(self.D)]\n",
    "        \n",
    "        digamma_gamma = [torch.digamma(self.gamma[d]) - \\\n",
    "                         torch.digamma(torch.sum(self.gamma[d], dim=-1)[..., None]) for d in range(self.D)]\n",
    "        \n",
    "        self.phi = [torch.exp(words_digamma_lamda[d] + digamma_gamma[d]) for d in range(self.D)]\n",
    "        self.phi = [phi_d / torch.sum(phi_d, dim=-1)[..., None] for phi_d in self.phi]\n",
    "    \n",
    "    \n",
    "    def model_parameter_step(self):\n",
    "        pass\n",
    "    \n",
    "    \n",
    "    def perplexity(self):\n",
    "        pass\n",
    "    \n",
    "    \n",
    "    def digamma_difference(self, tensor):\n",
    "        return torch.digamma(tensor) - torch.digamma(torch.sum(tensor, dim=-1)[..., None])\n",
    "    \n",
    "    \n",
    "    def log_gamma_difference(self, tensor):\n",
    "        return torch.lgamma(torch.sum(tensor, dim=-1)) - torch.sum(torch.lgamma(tensor), dim=-1)"
   ]
  },
  {
   "cell_type": "code",
   "execution_count": 507,
   "metadata": {},
   "outputs": [],
   "source": [
    "lda = VariationalLDA(documents, len(counts), num_topics=3, log_eta=-1., log_alpha=-1.)"
   ]
  },
  {
   "cell_type": "code",
   "execution_count": 508,
   "metadata": {},
   "outputs": [],
   "source": [
    "# optimizer = torch.optim.SGD(lda.parameters(), lr=1e-4)\n",
    "\n",
    "# for i in range(100):\n",
    "    \n",
    "#     if i % 10 == 0:\n",
    "#         print(torch.exp(lda.log_eta).cpu().detach().numpy())\n",
    "        \n",
    "#         print(torch.exp(lda.log_alpha).cpu().detach().numpy())\n",
    "\n",
    "#     optimizer.zero_grad()\n",
    "\n",
    "#     neg_elbo = - lda.elbo()\n",
    "\n",
    "#     neg_elbo.backward()\n",
    "\n",
    "#     optimizer.step()"
   ]
  },
  {
   "cell_type": "code",
   "execution_count": 509,
   "metadata": {},
   "outputs": [
    {
     "data": {
      "application/vnd.jupyter.widget-view+json": {
       "model_id": "622d67f750ee4ca89c3dfa4eb54b212c",
       "version_major": 2,
       "version_minor": 0
      },
      "text/plain": [
       "HBox(children=(IntProgress(value=0, max=10), HTML(value='')))"
      ]
     },
     "metadata": {},
     "output_type": "display_data"
    },
    {
     "data": {
      "application/vnd.jupyter.widget-view+json": {
       "model_id": "",
       "version_major": 2,
       "version_minor": 0
      },
      "text/plain": [
       "HBox(children=(IntProgress(value=0, max=10), HTML(value='')))"
      ]
     },
     "metadata": {},
     "output_type": "display_data"
    },
    {
     "data": {
      "application/vnd.jupyter.widget-view+json": {
       "model_id": "",
       "version_major": 2,
       "version_minor": 0
      },
      "text/plain": [
       "HBox(children=(IntProgress(value=0), HTML(value='')))"
      ]
     },
     "metadata": {},
     "output_type": "display_data"
    },
    {
     "data": {
      "application/vnd.jupyter.widget-view+json": {
       "model_id": "",
       "version_major": 2,
       "version_minor": 0
      },
      "text/plain": [
       "HBox(children=(IntProgress(value=0, max=10), HTML(value='')))"
      ]
     },
     "metadata": {},
     "output_type": "display_data"
    },
    {
     "data": {
      "application/vnd.jupyter.widget-view+json": {
       "model_id": "",
       "version_major": 2,
       "version_minor": 0
      },
      "text/plain": [
       "HBox(children=(IntProgress(value=0), HTML(value='')))"
      ]
     },
     "metadata": {},
     "output_type": "display_data"
    },
    {
     "data": {
      "application/vnd.jupyter.widget-view+json": {
       "model_id": "",
       "version_major": 2,
       "version_minor": 0
      },
      "text/plain": [
       "HBox(children=(IntProgress(value=0, max=10), HTML(value='')))"
      ]
     },
     "metadata": {},
     "output_type": "display_data"
    },
    {
     "data": {
      "application/vnd.jupyter.widget-view+json": {
       "model_id": "",
       "version_major": 2,
       "version_minor": 0
      },
      "text/plain": [
       "HBox(children=(IntProgress(value=0), HTML(value='')))"
      ]
     },
     "metadata": {},
     "output_type": "display_data"
    },
    {
     "data": {
      "application/vnd.jupyter.widget-view+json": {
       "model_id": "",
       "version_major": 2,
       "version_minor": 0
      },
      "text/plain": [
       "HBox(children=(IntProgress(value=0, max=10), HTML(value='')))"
      ]
     },
     "metadata": {},
     "output_type": "display_data"
    },
    {
     "data": {
      "application/vnd.jupyter.widget-view+json": {
       "model_id": "",
       "version_major": 2,
       "version_minor": 0
      },
      "text/plain": [
       "HBox(children=(IntProgress(value=0), HTML(value='')))"
      ]
     },
     "metadata": {},
     "output_type": "display_data"
    },
    {
     "data": {
      "application/vnd.jupyter.widget-view+json": {
       "model_id": "",
       "version_major": 2,
       "version_minor": 0
      },
      "text/plain": [
       "HBox(children=(IntProgress(value=0, max=10), HTML(value='')))"
      ]
     },
     "metadata": {},
     "output_type": "display_data"
    },
    {
     "data": {
      "application/vnd.jupyter.widget-view+json": {
       "model_id": "",
       "version_major": 2,
       "version_minor": 0
      },
      "text/plain": [
       "HBox(children=(IntProgress(value=0), HTML(value='')))"
      ]
     },
     "metadata": {},
     "output_type": "display_data"
    },
    {
     "data": {
      "application/vnd.jupyter.widget-view+json": {
       "model_id": "",
       "version_major": 2,
       "version_minor": 0
      },
      "text/plain": [
       "HBox(children=(IntProgress(value=0, max=10), HTML(value='')))"
      ]
     },
     "metadata": {},
     "output_type": "display_data"
    },
    {
     "data": {
      "application/vnd.jupyter.widget-view+json": {
       "model_id": "",
       "version_major": 2,
       "version_minor": 0
      },
      "text/plain": [
       "HBox(children=(IntProgress(value=0), HTML(value='')))"
      ]
     },
     "metadata": {},
     "output_type": "display_data"
    },
    {
     "data": {
      "application/vnd.jupyter.widget-view+json": {
       "model_id": "",
       "version_major": 2,
       "version_minor": 0
      },
      "text/plain": [
       "HBox(children=(IntProgress(value=0, max=10), HTML(value='')))"
      ]
     },
     "metadata": {},
     "output_type": "display_data"
    },
    {
     "data": {
      "application/vnd.jupyter.widget-view+json": {
       "model_id": "",
       "version_major": 2,
       "version_minor": 0
      },
      "text/plain": [
       "HBox(children=(IntProgress(value=0), HTML(value='')))"
      ]
     },
     "metadata": {},
     "output_type": "display_data"
    },
    {
     "data": {
      "application/vnd.jupyter.widget-view+json": {
       "model_id": "",
       "version_major": 2,
       "version_minor": 0
      },
      "text/plain": [
       "HBox(children=(IntProgress(value=0, max=10), HTML(value='')))"
      ]
     },
     "metadata": {},
     "output_type": "display_data"
    },
    {
     "data": {
      "application/vnd.jupyter.widget-view+json": {
       "model_id": "",
       "version_major": 2,
       "version_minor": 0
      },
      "text/plain": [
       "HBox(children=(IntProgress(value=0), HTML(value='')))"
      ]
     },
     "metadata": {},
     "output_type": "display_data"
    },
    {
     "data": {
      "application/vnd.jupyter.widget-view+json": {
       "model_id": "",
       "version_major": 2,
       "version_minor": 0
      },
      "text/plain": [
       "HBox(children=(IntProgress(value=0, max=10), HTML(value='')))"
      ]
     },
     "metadata": {},
     "output_type": "display_data"
    },
    {
     "data": {
      "application/vnd.jupyter.widget-view+json": {
       "model_id": "",
       "version_major": 2,
       "version_minor": 0
      },
      "text/plain": [
       "HBox(children=(IntProgress(value=0), HTML(value='')))"
      ]
     },
     "metadata": {},
     "output_type": "display_data"
    },
    {
     "data": {
      "application/vnd.jupyter.widget-view+json": {
       "model_id": "",
       "version_major": 2,
       "version_minor": 0
      },
      "text/plain": [
       "HBox(children=(IntProgress(value=0, max=10), HTML(value='')))"
      ]
     },
     "metadata": {},
     "output_type": "display_data"
    },
    {
     "data": {
      "application/vnd.jupyter.widget-view+json": {
       "model_id": "",
       "version_major": 2,
       "version_minor": 0
      },
      "text/plain": [
       "HBox(children=(IntProgress(value=0), HTML(value='')))"
      ]
     },
     "metadata": {},
     "output_type": "display_data"
    },
    {
     "name": "stdout",
     "output_type": "stream",
     "text": [
      "\n"
     ]
    }
   ],
   "source": [
    "num_em_iters = 10\n",
    "num_e_steps, print_every_e = 100, 10\n",
    "num_m_steps, print_every_m = 10, 1\n",
    "verbose = False\n",
    "\n",
    "optimizer = torch.optim.SGD(lda.parameters(), lr=1e-3)\n",
    "\n",
    "for i in tqdm(range(num_em_iters)):\n",
    "    \n",
    "    for j in tqdm(range(num_m_steps), leave=False):\n",
    "\n",
    "        lda.variational_parameter_step()\n",
    "    \n",
    "        if j % print_every_m == 0 and verbose:\n",
    "            print(lda.gamma[0].cpu().detach().numpy())\n",
    "            \n",
    "    for j in tqdm(range(num_e_steps), leave=False):\n",
    "\n",
    "        if j % print_every_e == 0 and verbose:\n",
    "            print(torch.exp(lda.log_eta).cpu().detach().numpy())\n",
    "            print(torch.exp(lda.log_alpha).cpu().detach().numpy())\n",
    "\n",
    "        optimizer.zero_grad()\n",
    "\n",
    "        neg_elbo = - lda.elbo()\n",
    "\n",
    "        neg_elbo.backward()\n",
    "\n",
    "        optimizer.step()"
   ]
  },
  {
   "cell_type": "code",
   "execution_count": 522,
   "metadata": {},
   "outputs": [],
   "source": [
    "lamda, _ = torch.sort(lda.lamda[0])"
   ]
  },
  {
   "cell_type": "code",
   "execution_count": 564,
   "metadata": {},
   "outputs": [
    {
     "data": {
      "text/plain": [
       "<BarContainer object of 101 artists>"
      ]
     },
     "execution_count": 564,
     "metadata": {},
     "output_type": "execute_result"
    },
    {
     "data": {
      "image/png": "[encoded data removed]",
      "text/plain": [
       "<Figure size 1080x360 with 1 Axes>"
      ]
     },
     "metadata": {},
     "output_type": "display_data"
    }
   ],
   "source": [
    "plt.figure(figsize=(15, 5))\n",
    "beta, beta_idx = torch.sort(torch.distributions.dirichlet.Dirichlet(lda.lamda[0]).rsample())\n",
    "y = beta.detach().cpu().numpy()[-101:]\n",
    "x = torch.arange(len(y))\n",
    "plt.bar(x, y, width=0.5)"
   ]
  },
  {
   "cell_type": "code",
   "execution_count": 569,
   "metadata": {},
   "outputs": [
    {
     "name": "stdout",
     "output_type": "stream",
     "text": [
      "single\n",
      "applications\n",
      "work\n",
      "help\n",
      "rate\n",
      "ns\n",
      "california\n",
      "pc\n",
      "tell\n",
      "gear\n",
      "goes\n",
      "example\n",
      "insurance\n",
      "encryption\n",
      "phone\n",
      "rushdie\n",
      "cameras\n",
      "turbo\n",
      "software\n",
      "car\n",
      "game\n",
      "gun\n",
      "image\n",
      "product\n",
      "mb\n",
      "live\n",
      "personal\n",
      "semi\n",
      "want\n",
      "email\n",
      "info\n",
      "age\n",
      "gif\n",
      "higher\n",
      "reason\n",
      "machine\n",
      "line\n",
      "case\n",
      "ibm\n",
      "appreciated\n",
      "wrong\n",
      "revolver\n",
      "code\n",
      "run\n",
      "good\n",
      "seen\n",
      "thing\n",
      "tis\n",
      "cars\n",
      "gpf\n",
      "box\n",
      "required\n",
      "record\n",
      "law\n",
      "ll\n",
      "mac\n",
      "better\n",
      "accidents\n",
      "error\n",
      "couple\n",
      "things\n",
      "access\n",
      "available\n",
      "thanks\n",
      "parts\n",
      "scsi\n",
      "called\n",
      "sure\n",
      "problem\n",
      "hard\n",
      "including\n",
      "treatment\n",
      "need\n",
      "god\n",
      "fatwa\n",
      "water\n",
      "actually\n",
      "mode\n",
      "maybe\n",
      "automatic\n",
      "point\n",
      "application\n",
      "environment\n",
      "lefthanded\n",
      "ve\n",
      "technology\n",
      "religion\n",
      "little\n",
      "got\n",
      "driving\n",
      "com\n",
      "question\n",
      "said\n",
      "chip\n",
      "know\n",
      "following\n",
      "summary\n",
      "response\n",
      "note\n",
      "religious\n",
      "actions\n",
      "think\n",
      "request\n",
      "probably\n",
      "conference\n",
      "mit\n",
      "great\n",
      "bit\n",
      "starters\n",
      "tiff\n",
      "heard\n",
      "open\n",
      "defense\n",
      "white\n",
      "windows\n",
      "miles\n",
      "problems\n",
      "uses\n",
      "house\n",
      "small\n",
      "asked\n",
      "worse\n",
      "ago\n",
      "times\n",
      "child\n",
      "set\n",
      "auto\n",
      "images\n",
      "different\n",
      "program\n",
      "understanding\n",
      "children\n",
      "course\n",
      "tried\n",
      "th\n",
      "book\n",
      "comes\n",
      "general\n",
      "strong\n",
      "university\n",
      "place\n",
      "best\n",
      "non\n",
      "right\n",
      "going\n",
      "important\n",
      "parent\n",
      "service\n",
      "buy\n",
      "edu\n",
      "memory\n",
      "hope\n",
      "division\n",
      "key\n",
      "year\n",
      "speed\n",
      "isn\n",
      "situation\n",
      "look\n",
      "dicta\n",
      "add\n",
      "went\n",
      "wide\n",
      "study\n",
      "certain\n",
      "couldn\n",
      "systems\n",
      "million\n",
      "failed\n",
      "final\n",
      "board\n",
      "decided\n",
      "team\n",
      "trying\n",
      "based\n",
      "driven\n",
      "cities\n",
      "sun\n",
      "days\n",
      "way\n",
      "man\n",
      "currently\n",
      "old\n",
      "crime\n",
      "contact\n",
      "venus\n",
      "number\n",
      "magazine\n",
      "flyby\n",
      "taking\n",
      "supply\n",
      "low\n",
      "pp\n",
      "van\n",
      "launched\n",
      "true\n",
      "national\n",
      "short\n",
      "today\n",
      "nd\n",
      "large\n",
      "jupiter\n",
      "ii\n",
      "time\n",
      "global\n",
      "simms\n",
      "history\n",
      "file\n",
      "st\n",
      "come\n",
      "external\n",
      "atrocities\n",
      "like\n",
      "gravity\n",
      "able\n",
      "end\n",
      "provide\n",
      "state\n",
      "majority\n",
      "post\n",
      "city\n",
      "turkey\n",
      "marine\n",
      "government\n",
      "module\n",
      "lunar\n",
      "officers\n",
      "road\n",
      "surface\n",
      "major\n",
      "naval\n",
      "corps\n",
      "launch\n",
      "hand\n",
      "control\n",
      "long\n",
      "redesign\n",
      "human\n",
      "fact\n",
      "villages\n",
      "cut\n",
      "centers\n",
      "pay\n",
      "imaging\n",
      "day\n",
      "information\n",
      "muslim\n",
      "capability\n",
      "possible\n",
      "taken\n",
      "left\n",
      "missions\n",
      "turks\n",
      "high\n",
      "command\n",
      "solar\n",
      "new\n",
      "isas\n",
      "titan\n",
      "list\n",
      "saturn\n",
      "project\n",
      "let\n",
      "collaboration\n",
      "entire\n",
      "close\n",
      "use\n",
      "issue\n",
      "mission\n",
      "reserve\n",
      "atmosphere\n",
      "assist\n",
      "orbit\n",
      "world\n",
      "soviet\n",
      "data\n",
      "source\n",
      "population\n",
      "cruelties\n",
      "shuttle\n",
      "flights\n",
      "option\n",
      "nazi\n",
      "ray\n",
      "cassini\n",
      "years\n",
      "ottoman\n",
      "genocide\n",
      "jews\n",
      "satellite\n",
      "earth\n",
      "ssf\n",
      "probe\n",
      "turkish\n",
      "power\n",
      "kurds\n",
      "space\n",
      "army\n",
      "war\n",
      "people\n",
      "russian\n",
      "armenians\n",
      "orbiter\n",
      "armenian\n"
     ]
    }
   ],
   "source": [
    "for idx in beta_idx:\n",
    "    \n",
    "    print(idx_word_dict[int(idx)])"
   ]
  },
  {
   "cell_type": "code",
   "execution_count": null,
   "metadata": {},
   "outputs": [],
   "source": []
  }
 ],
 "metadata": {
  "kernelspec": {
   "display_name": "venv-lda",
   "language": "python",
   "name": "venv-lda"
  },
  "language_info": {
   "codemirror_mode": {
    "name": "ipython",
    "version": 3
   },
   "file_extension": ".py",
   "mimetype": "text/x-python",
   "name": "python",
   "nbconvert_exporter": "python",
   "pygments_lexer": "ipython3",
   "version": "3.5.5"
  }
 },
 "nbformat": 4,
 "nbformat_minor": 2
}
